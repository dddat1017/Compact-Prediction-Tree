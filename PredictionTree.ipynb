{
 "cells": [
  {
   "cell_type": "code",
   "execution_count": null,
   "metadata": {},
   "outputs": [],
   "source": [
    "class PredictionTree():\n",
    "    Item = None\n",
    "    Parent = None\n",
    "    Children = None\n",
    "    \n",
    "    def __init__(self,itemValue=None):\n",
    "        self.Item = itemValue\n",
    "        self.Children = []\n",
    "        self.Parent = None\n",
    "        \n",
    "    def addChild(self, child):\n",
    "        newchild = PredictionTree(child)\n",
    "        newchild.Parent = self\n",
    "        self.Children.append(newchild)\n",
    "        \n",
    "    def getChild(self,target):\n",
    "        for chld in self.Children:\n",
    "            if chld.Item == target:\n",
    "                return chld\n",
    "        return None\n",
    "    \n",
    "    def getChildren(self):\n",
    "        return self.Children\n",
    "        \n",
    "    def hasChild(self,target):\n",
    "        found = self.getChild(target)\n",
    "        if found is not None:\n",
    "            return True\n",
    "        else:\n",
    "            return False\n",
    "        \n",
    "    def removeChild(self,child):\n",
    "        for chld in self.Children:\n",
    "            if chld.Item==child:\n",
    "                self.Children.remove(chld)"
   ]
  }
 ],
 "metadata": {
  "kernelspec": {
   "display_name": "Python 3",
   "language": "python",
   "name": "python3"
  },
  "language_info": {
   "codemirror_mode": {
    "name": "ipython",
    "version": 3
   },
   "file_extension": ".py",
   "mimetype": "text/x-python",
   "name": "python",
   "nbconvert_exporter": "python",
   "pygments_lexer": "ipython3",
   "version": "3.7.3"
  }
 },
 "nbformat": 4,
 "nbformat_minor": 2
}
